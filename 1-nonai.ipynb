{
 "cells": [
  {
   "cell_type": "code",
   "execution_count": 72,
   "id": "28880ad5-ff80-4e35-8255-513878956d4b",
   "metadata": {},
   "outputs": [
    {
     "name": "stdout",
     "output_type": "stream",
     "text": [
      "Total screws detected: 0\n"
     ]
    }
   ],
   "source": []
  },
  {
   "cell_type": "code",
   "execution_count": 76,
   "id": "c98b4fee-3770-4915-8d62-f19bffe53f5d",
   "metadata": {},
   "outputs": [
    {
     "name": "stdout",
     "output_type": "stream",
     "text": [
      "Number of items in the image: 62\n"
     ]
    }
   ],
   "source": []
  },
  {
   "cell_type": "code",
   "execution_count": 70,
   "id": "26741fc5-d34e-4aee-aee5-ecfc7a1973be",
   "metadata": {},
   "outputs": [
    {
     "name": "stdout",
     "output_type": "stream",
     "text": [
      "Total screws detected: 2\n"
     ]
    }
   ],
   "source": []
  },
  {
   "cell_type": "code",
   "execution_count": 82,
   "id": "9f3d9b42-4164-458e-b5fa-247cb13b8287",
   "metadata": {},
   "outputs": [
    {
     "name": "stdout",
     "output_type": "stream",
     "text": [
      "Detected screws: 38\n"
     ]
    }
   ],
   "source": [
    "import cv2\n",
    "import numpy as np\n",
    "\n",
    "def count_screws_final(image_path, display_width=800):\n",
    "    image = cv2.imread(image_path)\n",
    "    if image is None:\n",
    "        print(\"Image not found.\")\n",
    "        return\n",
    "\n",
    "    height, width = image.shape[:2]\n",
    "    ratio = display_width / width\n",
    "\n",
    "    # Grayscale + CLAHE\n",
    "    gray = cv2.cvtColor(image, cv2.COLOR_BGR2GRAY)\n",
    "    clahe = cv2.createCLAHE(clipLimit=2.5, tileGridSize=(8, 8))\n",
    "    gray_eq = clahe.apply(gray)\n",
    "\n",
    "    # Threshold\n",
    "    thresh = cv2.adaptiveThreshold(\n",
    "        gray_eq, 255, cv2.ADAPTIVE_THRESH_MEAN_C,\n",
    "        cv2.THRESH_BINARY_INV, 15, 5\n",
    "    )\n",
    "\n",
    "    # Morphological cleanup\n",
    "    kernel = np.ones((3, 3), np.uint8)\n",
    "    morph = cv2.morphologyEx(thresh, cv2.MORPH_CLOSE, kernel, iterations=2)\n",
    "    morph = cv2.morphologyEx(morph, cv2.MORPH_OPEN, kernel, iterations=1)\n",
    "\n",
    "    # Contour detection\n",
    "    contours, _ = cv2.findContours(morph, cv2.RETR_EXTERNAL, cv2.CHAIN_APPROX_SIMPLE)\n",
    "\n",
    "    result = image.copy()\n",
    "    count = 0\n",
    "\n",
    "    for cnt in contours:\n",
    "        area = cv2.contourArea(cnt)\n",
    "        if area < 200 or area > 3000:\n",
    "            continue  # Filter based on area\n",
    "\n",
    "        # Solidity = contour area / convex hull area\n",
    "        hull = cv2.convexHull(cnt)\n",
    "        hull_area = cv2.contourArea(hull)\n",
    "        if hull_area == 0:\n",
    "            continue\n",
    "        solidity = float(area) / hull_area\n",
    "        if solidity < 0.6:\n",
    "            continue  # Discard contours that are not compact\n",
    "\n",
    "        # Bounding box shape filter\n",
    "        x, y, w, h = cv2.boundingRect(cnt)\n",
    "        aspect_ratio = w / float(h)\n",
    "        if 0.3 < aspect_ratio < 3.0:\n",
    "            count += 1\n",
    "            cv2.drawContours(result, [cnt], -1, (0, 255, 0), 1)\n",
    "\n",
    "    # Display count\n",
    "    cv2.putText(result, f\"Screws Counted: {count}\", (10, 30),\n",
    "                cv2.FONT_HERSHEY_SIMPLEX, 1, (0, 0, 255), 2)\n",
    "\n",
    "    def resize(img): return cv2.resize(img, (int(width * ratio), int(height * ratio)))\n",
    "    cv2.imshow(\"Thresh\", resize(thresh))\n",
    "    cv2.imshow(\"Morph\", resize(morph))\n",
    "    cv2.imshow(\"Result\", resize(result))\n",
    "    cv2.waitKey(0)\n",
    "    cv2.destroyAllWindows()\n",
    "\n",
    "    return count\n",
    "\n",
    "# Run the detector\n",
    "image_path = \"ScrewAndBolt_20240713/20240713_192951.jpg\"\n",
    "print(\"Detected screws:\", count_screws_final(image_path))\n"
   ]
  },
  {
   "cell_type": "code",
   "execution_count": 81,
   "id": "b2deee7e-3547-4631-8381-0ee0f977a109",
   "metadata": {},
   "outputs": [
    {
     "ename": "SyntaxError",
     "evalue": "invalid imaginary literal (3059886166.py, line 2)",
     "output_type": "error",
     "traceback": [
      "  \u001b[36mCell\u001b[39m\u001b[36m \u001b[39m\u001b[32mIn[81]\u001b[39m\u001b[32m, line 2\u001b[39m\n\u001b[31m    \u001b[39m\u001b[31mScrewAndBolt_20240713/20240713_192951.jpg\u001b[39m\n                                          ^\n\u001b[31mSyntaxError\u001b[39m\u001b[31m:\u001b[39m invalid imaginary literal\n"
     ]
    }
   ],
   "source": [
    "Screws_2024_07_15/img1.jpg\n",
    "ScrewAndBolt_20240713/20240713_192951.jpg"
   ]
  },
  {
   "cell_type": "code",
   "execution_count": null,
   "id": "f9c2e6a5-41b7-4a0e-b2f9-fd7eb26c9ebb",
   "metadata": {},
   "outputs": [],
   "source": []
  }
 ],
 "metadata": {
  "kernelspec": {
   "display_name": "Python 3 (ipykernel)",
   "language": "python",
   "name": "python3"
  },
  "language_info": {
   "codemirror_mode": {
    "name": "ipython",
    "version": 3
   },
   "file_extension": ".py",
   "mimetype": "text/x-python",
   "name": "python",
   "nbconvert_exporter": "python",
   "pygments_lexer": "ipython3",
   "version": "3.12.11"
  }
 },
 "nbformat": 4,
 "nbformat_minor": 5
}
